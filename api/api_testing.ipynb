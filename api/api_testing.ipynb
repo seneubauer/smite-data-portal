{
 "cells": [
  {
   "cell_type": "code",
   "execution_count": null,
   "id": "f291056a",
   "metadata": {},
   "outputs": [],
   "source": [
    "# import the api class\n",
    "from smite_api import smite_api, service_method_types"
   ]
  },
  {
   "cell_type": "code",
   "execution_count": null,
   "id": "39d907b1",
   "metadata": {},
   "outputs": [],
   "source": [
    "# bring in confidential values\n",
    "from sys import path\n",
    "path.insert(0, \"..\")\n",
    "from config import dev_id, auth_key"
   ]
  },
  {
   "cell_type": "code",
   "execution_count": null,
   "id": "f324bc82",
   "metadata": {},
   "outputs": [],
   "source": [
    "# instantiate the api class\n",
    "api = smite_api(dev_id, auth_key)"
   ]
  },
  {
   "cell_type": "code",
   "execution_count": null,
   "id": "dbf73dbd",
   "metadata": {
    "scrolled": true
   },
   "outputs": [],
   "source": [
    "api.ping_server()"
   ]
  },
  {
   "cell_type": "code",
   "execution_count": null,
   "id": "d355b047",
   "metadata": {},
   "outputs": [],
   "source": [
    "api.create_session()"
   ]
  },
  {
   "cell_type": "code",
   "execution_count": null,
   "id": "48d7f395",
   "metadata": {},
   "outputs": [],
   "source": [
    "api.get_session_information(service_method_types.test_session)"
   ]
  },
  {
   "cell_type": "code",
   "execution_count": null,
   "id": "323367fa",
   "metadata": {},
   "outputs": [],
   "source": [
    "gods = api.get_all_gods()\n",
    "gods[0]"
   ]
  },
  {
   "cell_type": "code",
   "execution_count": null,
   "id": "669aabff",
   "metadata": {},
   "outputs": [],
   "source": [
    "items = api.get_all_items()"
   ]
  },
  {
   "cell_type": "code",
   "execution_count": null,
   "id": "5d1974de",
   "metadata": {},
   "outputs": [],
   "source": [
    "items[90]"
   ]
  },
  {
   "cell_type": "code",
   "execution_count": null,
   "id": "4a458923",
   "metadata": {},
   "outputs": [],
   "source": [
    "api.get_session_information(service_method_types.get_data_used)"
   ]
  }
 ],
 "metadata": {
  "kernelspec": {
   "display_name": "Python 3 (ipykernel)",
   "language": "python",
   "name": "python3"
  },
  "language_info": {
   "codemirror_mode": {
    "name": "ipython",
    "version": 3
   },
   "file_extension": ".py",
   "mimetype": "text/x-python",
   "name": "python",
   "nbconvert_exporter": "python",
   "pygments_lexer": "ipython3",
   "version": "3.8.13"
  }
 },
 "nbformat": 4,
 "nbformat_minor": 5
}
